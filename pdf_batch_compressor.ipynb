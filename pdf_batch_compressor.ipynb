{
  "cells": [
    {
      "cell_type": "markdown",
      "id": "109f7ce0",
      "metadata": {
        "id": "109f7ce0"
      },
      "source": [
        "# 線上 PDF 壓縮工具 (Online PDF Compressor)\n",
        "\n",
        "這個 Colab Notebook 檔案利用 ghostscript 這個強大的工具來進行 PDF 壓縮，並提供了一個簡單易用的介面，讓您可以輕鬆上傳多個 PDF 檔案，進行壓縮，然後將壓縮後的檔案打包下載。\n"
      ]
    },
    {
      "cell_type": "code",
      "execution_count": null,
      "id": "45d118e0",
      "metadata": {
        "id": "45d118e0",
        "cellView": "form"
      },
      "outputs": [],
      "source": [
        "# @title 歡迎使用線上 PDF 壓縮工具\n",
        "# @markdown 這個 Colab 筆記本可以幫助您壓縮多個 PDF 檔案，以減少檔案大小。\n",
        "# @markdown ---\n",
        "# @markdown **使用步驟：**\n",
        "# @markdown 1.  執行第一個儲存格**「步驟一：安裝 Ghostscript」**，以安裝必要的工具。\n",
        "# @markdown 2.  執行第二個儲存格**「步驟二：上傳您的 PDF 檔案」**，並選擇您想要壓縮的所有 PDF 檔案。\n",
        "# @markdown 3.  在第三個儲存格**「步驟三：選擇壓縮品質並執行壓縮」**中，選擇您想要的壓縮等級，然後執行它。\n",
        "# @markdown 4.  執行最後一個儲存格**「步驟四：下載壓縮後的 PDF 檔案」**，所有壓縮過的檔案將會被打包成一個 ZIP 檔供您下載。\n",
        "# @markdown ---\n",
        "# @markdown **注意：**\n",
        "# @markdown *   此服務完全免費。\n",
        "# @markdown *   您的檔案將在 Colab 的暫存空間中處理，並在執行階段結束後自動刪除，確保您的隱私。\n",
        "# @markdown *   壓縮效果會因原始 PDF 的內容而異，包含大量圖片的 PDF 檔案通常會有最顯著的壓縮效果。"
      ]
    },
    {
      "cell_type": "code",
      "execution_count": null,
      "id": "e1b108bf",
      "metadata": {
        "id": "e1b108bf"
      },
      "outputs": [],
      "source": [
        "# @title 步驟一：安裝 Ghostscript\n",
        "# @markdown 請執行此儲存格以安裝 PDF 壓縮所需的 `ghostscript` 工具。\n",
        "# @markdown 這個過程可能需要幾秒鐘。\n",
        "\n",
        "!apt-get update\n",
        "!apt-get install -y ghostscript\n",
        "print(\"Ghostscript 安裝完成！\")"
      ]
    },
    {
      "cell_type": "code",
      "execution_count": null,
      "id": "309ab043",
      "metadata": {
        "id": "309ab043"
      },
      "outputs": [],
      "source": [
        "# @title 步驟二：上傳您的 PDF 檔案\n",
        "# @markdown 執行此儲存格後，請點擊「選擇檔案」按鈕，然後選取一個或多個您想要壓縮的 PDF 檔案。\n",
        "# @markdown 上傳完成後，檔案列表會顯示在下方。\n",
        "\n",
        "import os\n",
        "from google.colab import files\n",
        "\n",
        "# 創建用於存放上傳檔案和壓縮後檔案的資料夾\n",
        "upload_folder = 'uploaded_pdfs'\n",
        "compressed_folder = 'compressed_pdfs'\n",
        "\n",
        "if not os.path.exists(upload_folder):\n",
        "    os.makedirs(upload_folder)\n",
        "if not os.path.exists(compressed_folder):\n",
        "    os.makedirs(compressed_folder)\n",
        "\n",
        "# 清空舊檔案\n",
        "for f in os.listdir(upload_folder):\n",
        "    os.remove(os.path.join(upload_folder, f))\n",
        "for f in os.listdir(compressed_folder):\n",
        "    os.remove(os.path.join(compressed_folder, f))\n",
        "\n",
        "\n",
        "uploaded = files.upload()\n",
        "\n",
        "# 將上傳的檔案移動到指定資料夾\n",
        "for filename, content in uploaded.items():\n",
        "    with open(os.path.join(upload_folder, filename), 'wb') as f:\n",
        "        f.write(content)\n",
        "    print(f'已上傳檔案： {filename}')\n",
        "\n",
        "if not os.listdir(upload_folder):\n",
        "    print(\"您沒有上傳任何檔案。\")\n",
        "else:\n",
        "    print(\"\\n所有檔案上傳成功！\")"
      ]
    },
    {
      "cell_type": "code",
      "source": [
        "# @title 步驟三：選擇壓縮品質並執行壓縮\n",
        "# @markdown 請從下拉選單中選擇一個壓縮品質等級，然後執行此儲存格。 [4, 14, 18]\n",
        "# @markdown - **低品質 (screen):** 檔案最小，適合螢幕閱讀，不適合印刷。\n",
        "# @markdown - **中等品質 (ebook):** 檔案大小與品質的良好平衡，適合電子書。\n",
        "# @markdown - **高品質 (printer):** 檔案較大，適合印刷。\n",
        "# @markdown - **最高品質 (prepress):** 檔案最大，保留最多細節，適合專業印刷。\n",
        "\n",
        "import subprocess\n",
        "import shutil\n",
        "\n",
        "quality_level = 'prepress'  # @param [\"screen\", \"ebook\", \"printer\", \"prepress\"]\n",
        "\n",
        "input_folder = 'uploaded_pdfs'\n",
        "output_folder = 'compressed_pdfs'\n",
        "pdf_files = [f for f in os.listdir(input_folder) if f.lower().endswith('.pdf')]\n",
        "\n",
        "if not pdf_files:\n",
        "    print(\"找不到任何已上傳的 PDF 檔案。請先執行步驟二。\")\n",
        "else:\n",
        "    for filename in pdf_files:\n",
        "        input_path = os.path.join(input_folder, filename)\n",
        "        output_path = os.path.join(output_folder, filename)\n",
        "\n",
        "        original_size = os.path.getsize(input_path) / 1024  # KB\n",
        "\n",
        "        command = [\n",
        "            'gs',\n",
        "            '-sDEVICE=pdfwrite',\n",
        "            '-dCompatibilityLevel=1.4',\n",
        "            f'-dPDFSETTINGS=/{quality_level}',\n",
        "            '-dNOPAUSE',\n",
        "            '-dQUIET',\n",
        "            '-dBATCH',\n",
        "            f'-sOutputFile={output_path}',\n",
        "            input_path\n",
        "        ]\n",
        "\n",
        "        try:\n",
        "            subprocess.run(command, check=True)\n",
        "            compressed_size = os.path.getsize(output_path) / 1024  # KB\n",
        "            reduction = 100 - (compressed_size / original_size * 100)\n",
        "            print(f\"成功壓縮 '{filename}'\")\n",
        "            print(f\"  原始大小: {original_size:.2f} KB\")\n",
        "            print(f\"  壓縮後大小: {compressed_size:.2f} KB\")\n",
        "            print(f\"  大小減少: {reduction:.2f}%\")\n",
        "        except subprocess.CalledProcessError as e:\n",
        "            print(f\"壓縮 '{filename}' 時發生錯誤: {e}\")\n",
        "            # 如果壓縮失敗，將原始檔案複製過去\n",
        "            shutil.copy(input_path, output_path)\n",
        "            print(f\"  已將原始檔案複製到輸出資料夾。\")\n",
        "        print(\"-\" * 20)\n",
        "    print(\"\\n所有檔案處理完成！\")"
      ],
      "metadata": {
        "id": "PWO7nanG5abn"
      },
      "id": "PWO7nanG5abn",
      "execution_count": null,
      "outputs": []
    },
    {
      "cell_type": "code",
      "source": [
        "# @title 步驟四：下載壓縮後的 PDF 檔案\n",
        "# @markdown 執行此儲存格會將所有壓縮過的 PDF 檔案打包成一個 ZIP 檔，並自動開始下載。\n",
        "# @markdown 如果您只有一個檔案，它也會被打包成 ZIP 檔。\n",
        "\n",
        "import shutil\n",
        "\n",
        "output_folder = 'compressed_pdfs'\n",
        "\n",
        "if not os.listdir(output_folder):\n",
        "    print(\"沒有可供下載的壓縮檔案。請先執行步驟三。\")\n",
        "else:\n",
        "    zip_filename = 'compressed_pdfs.zip'\n",
        "    shutil.make_archive(zip_filename.replace('.zip', ''), 'zip', output_folder)\n",
        "\n",
        "    print(f\"已將所有壓縮檔案打包成 '{zip_filename}'。\")\n",
        "    print(\"準備下載...\")\n",
        "    files.download(zip_filename)"
      ],
      "metadata": {
        "id": "fMa48jwt5hXA"
      },
      "id": "fMa48jwt5hXA",
      "execution_count": null,
      "outputs": []
    }
  ],
  "metadata": {
    "colab": {
      "provenance": []
    },
    "language_info": {
      "name": "python"
    },
    "kernelspec": {
      "name": "python3",
      "display_name": "Python 3"
    }
  },
  "nbformat": 4,
  "nbformat_minor": 5
}